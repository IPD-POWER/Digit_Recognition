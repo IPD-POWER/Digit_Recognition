{
 "cells": [
  {
   "cell_type": "code",
   "execution_count": 3,
   "metadata": {},
   "outputs": [],
   "source": [
    "import cv2\n",
    "import numpy as np\n",
    "image = cv2.imread('Equation.jpeg')\n",
    "image= cv2.cvtColor(image, cv2.COLOR_BGR2GRAY)\n",
    "\n",
    "gradients_sobelx = cv2.Sobel(image, -1, 1, 0)\n",
    "gradients_sobely = cv2.Sobel(image, -1, 0, 1)\n",
    "gradients_sobelxy = cv2.addWeighted(gradients_sobelx, 0.5, gradients_sobely, 0.5, 0)\n",
    "gradients_laplacian = cv2.Laplacian(image, -1)\n",
    "canny_output = cv2.Canny(image, 80, 150)\n",
    "\n",
    "cv2.imshow('Sobel x', gradients_sobelx)\n",
    "cv2.imshow('Sobel y', gradients_sobely)\n",
    "cv2.imshow('Sobel X+y', gradients_sobelxy)\n",
    "cv2.imshow('laplacian', gradients_laplacian)\n",
    "cv2.imshow('Canny', canny_output)\n",
    "cv2.waitKey()"
   ]
  }
 ],
 "metadata": {
  "kernelspec": {
   "display_name": "Python 3.10.5 64-bit",
   "language": "python",
   "name": "python3"
  },
  "language_info": {
   "codemirror_mode": {
    "name": "ipython",
    "version": 3
   },
   "file_extension": ".py",
   "mimetype": "text/x-python",
   "name": "python",
   "nbconvert_exporter": "python",
   "pygments_lexer": "ipython3",
   "version": "3.10.5"
  },
  "orig_nbformat": 4,
  "vscode": {
   "interpreter": {
    "hash": "369f2c481f4da34e4445cda3fffd2e751bd1c4d706f27375911949ba6bb62e1c"
   }
  }
 },
 "nbformat": 4,
 "nbformat_minor": 2
}
